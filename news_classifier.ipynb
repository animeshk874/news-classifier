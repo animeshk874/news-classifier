{
 "cells": [
  {
   "cell_type": "markdown",
   "metadata": {},
   "source": [
    "<h1>NEWS HEADLINE CLASSIFICATION</h1>  \n",
    "\n",
    "<p>In this notebook we will try to classify news using <b>MULTINOMIAL NAIVE BAYES</b>. We will convert text into vector by using <b>Bag Of Words</b> model. We will use two different datasets from two differrent sources and merge them.Our objective is to find maximum accuracy possible</p> "
   ]
  },
  {
   "cell_type": "code",
   "execution_count": 1,
   "metadata": {
    "collapsed": false,
    "deletable": true,
    "editable": true,
    "scrolled": true
   },
   "outputs": [],
   "source": [
    "##Loading all the required libraries\n",
    "import pandas as pd\n",
    "import numpy as np\n",
    "\n",
    "from sklearn.naive_bayes import MultinomialNB\n",
    "\n",
    "from sklearn.feature_extraction.text import CountVectorizer\n",
    "from sklearn.model_selection import train_test_split\n",
    "\n",
    "from sklearn.metrics import accuracy_score\n",
    "import time\n",
    "\n",
    "#library for regular expretion\n",
    "import re"
   ]
  },
  {
   "cell_type": "code",
   "execution_count": 2,
   "metadata": {
    "collapsed": false,
    "deletable": true,
    "editable": true
   },
   "outputs": [],
   "source": [
    "#Loading the data which is from Kaggle\n",
    "#This dataset contains four news class -b for business, e- entertainment, -t for technology and science, -m for medical\n",
    "data = pd.read_csv(\"uci-news-aggregator.csv\",encoding='latin-1')"
   ]
  },
  {
   "cell_type": "code",
   "execution_count": 3,
   "metadata": {
    "collapsed": false
   },
   "outputs": [
    {
     "data": {
      "text/html": [
       "<div>\n",
       "<table border=\"1\" class=\"dataframe\">\n",
       "  <thead>\n",
       "    <tr style=\"text-align: right;\">\n",
       "      <th></th>\n",
       "      <th>TITLE</th>\n",
       "      <th>CATEGORY</th>\n",
       "    </tr>\n",
       "  </thead>\n",
       "  <tbody>\n",
       "    <tr>\n",
       "      <th>0</th>\n",
       "      <td>http://domesticfuel.com/2014/05/02/oregon-inst...</td>\n",
       "      <td>Nature_Environment</td>\n",
       "    </tr>\n",
       "    <tr>\n",
       "      <th>1</th>\n",
       "      <td>http://peakoil.com/generalideas/peak-oil-theor...</td>\n",
       "      <td>Nature_Environment</td>\n",
       "    </tr>\n",
       "    <tr>\n",
       "      <th>2</th>\n",
       "      <td>http://theenergycollective.com/maxbaumhefner/3...</td>\n",
       "      <td>Nature_Environment</td>\n",
       "    </tr>\n",
       "    <tr>\n",
       "      <th>3</th>\n",
       "      <td>http://dailykos.com/story/2014/05/02/1296329/-...</td>\n",
       "      <td>Nature_Environment</td>\n",
       "    </tr>\n",
       "    <tr>\n",
       "      <th>4</th>\n",
       "      <td>http://theenergycollective.com/todayinenergy/3...</td>\n",
       "      <td>Nature_Environment</td>\n",
       "    </tr>\n",
       "  </tbody>\n",
       "</table>\n",
       "</div>"
      ],
      "text/plain": [
       "                                               TITLE            CATEGORY\n",
       "0  http://domesticfuel.com/2014/05/02/oregon-inst...  Nature_Environment\n",
       "1  http://peakoil.com/generalideas/peak-oil-theor...  Nature_Environment\n",
       "2  http://theenergycollective.com/maxbaumhefner/3...  Nature_Environment\n",
       "3  http://dailykos.com/story/2014/05/02/1296329/-...  Nature_Environment\n",
       "4  http://theenergycollective.com/todayinenergy/3...  Nature_Environment"
      ]
     },
     "execution_count": 3,
     "metadata": {},
     "output_type": "execute_result"
    }
   ],
   "source": [
    "#Loading another data which contain 5 different class of news\n",
    "#Nature_Environment , Politics, Lifestyle, Business_finance and Health\n",
    "data1 = pd.read_csv(\"ArticlesNewsSitesData_2382.csv\",sep=';')\n",
    "data1.columns = ['TITLE','CATEGORY']\n",
    "data1.head()"
   ]
  },
  {
   "cell_type": "code",
   "execution_count": 4,
   "metadata": {
    "collapsed": false
   },
   "outputs": [],
   "source": [
    "#Extracting news haedline from urls \n",
    "for i in range(2382):\n",
    "    data1.TITLE[i] = re.sub(r'\\w+:\\/{2}[\\d\\w-]+(\\.[\\d\\w-]+)*(?:(?:\\/[^\\s/]*))', '', data1.TITLE[i])\n",
    "    data1.TITLE[i] = re.sub(r'(\\/[0-9]*\\/)*[0-9]*\\/', '', data1.TITLE[i])\n",
    "    data1.TITLE[i]=data1.TITLE[i].replace(\"-\",\" \")\n",
    "    \n",
    "\n"
   ]
  },
  {
   "cell_type": "code",
   "execution_count": 5,
   "metadata": {
    "collapsed": false
   },
   "outputs": [
    {
     "data": {
      "text/html": [
       "<div>\n",
       "<table border=\"1\" class=\"dataframe\">\n",
       "  <thead>\n",
       "    <tr style=\"text-align: right;\">\n",
       "      <th></th>\n",
       "      <th>TITLE</th>\n",
       "      <th>CATEGORY</th>\n",
       "    </tr>\n",
       "  </thead>\n",
       "  <tbody>\n",
       "    <tr>\n",
       "      <th>2377</th>\n",
       "      <td>The Who s Roger Daltry Rocking for Philly Can...</td>\n",
       "      <td>Lifestyle_leisure</td>\n",
       "    </tr>\n",
       "    <tr>\n",
       "      <th>2378</th>\n",
       "      <td></td>\n",
       "      <td>Lifestyle_leisure</td>\n",
       "    </tr>\n",
       "    <tr>\n",
       "      <th>2379</th>\n",
       "      <td>stylehoroscope5e1a15f0 98e5 11e3 80ac 63a8ba7f...</td>\n",
       "      <td>Lifestyle_leisure</td>\n",
       "    </tr>\n",
       "    <tr>\n",
       "      <th>2380</th>\n",
       "      <td>dario franchitti interview indianapolis 500 ca...</td>\n",
       "      <td>Lifestyle_leisure</td>\n",
       "    </tr>\n",
       "    <tr>\n",
       "      <th>2381</th>\n",
       "      <td>flower power oils for loss and the stages of g...</td>\n",
       "      <td>Lifestyle_leisure</td>\n",
       "    </tr>\n",
       "  </tbody>\n",
       "</table>\n",
       "</div>"
      ],
      "text/plain": [
       "                                                  TITLE           CATEGORY\n",
       "2377   The Who s Roger Daltry Rocking for Philly Can...  Lifestyle_leisure\n",
       "2378                                                     Lifestyle_leisure\n",
       "2379  stylehoroscope5e1a15f0 98e5 11e3 80ac 63a8ba7f...  Lifestyle_leisure\n",
       "2380  dario franchitti interview indianapolis 500 ca...  Lifestyle_leisure\n",
       "2381  flower power oils for loss and the stages of g...  Lifestyle_leisure"
      ]
     },
     "execution_count": 5,
     "metadata": {},
     "output_type": "execute_result"
    }
   ],
   "source": [
    "data1.tail()"
   ]
  },
  {
   "cell_type": "code",
   "execution_count": 6,
   "metadata": {
    "collapsed": false
   },
   "outputs": [
    {
     "data": {
      "text/html": [
       "<div>\n",
       "<table border=\"1\" class=\"dataframe\">\n",
       "  <thead>\n",
       "    <tr style=\"text-align: right;\">\n",
       "      <th></th>\n",
       "      <th>TITLE</th>\n",
       "      <th>CATEGORY</th>\n",
       "    </tr>\n",
       "  </thead>\n",
       "  <tbody>\n",
       "    <tr>\n",
       "      <th>2377</th>\n",
       "      <td>The Who s Roger Daltry Rocking for Philly Can...</td>\n",
       "      <td>Lifestyle_leisure</td>\n",
       "    </tr>\n",
       "    <tr>\n",
       "      <th>2378</th>\n",
       "      <td>NaN</td>\n",
       "      <td>Lifestyle_leisure</td>\n",
       "    </tr>\n",
       "    <tr>\n",
       "      <th>2379</th>\n",
       "      <td>stylehoroscope5e1a15f0 98e5 11e3 80ac 63a8ba7f...</td>\n",
       "      <td>Lifestyle_leisure</td>\n",
       "    </tr>\n",
       "    <tr>\n",
       "      <th>2380</th>\n",
       "      <td>dario franchitti interview indianapolis 500 ca...</td>\n",
       "      <td>Lifestyle_leisure</td>\n",
       "    </tr>\n",
       "    <tr>\n",
       "      <th>2381</th>\n",
       "      <td>flower power oils for loss and the stages of g...</td>\n",
       "      <td>Lifestyle_leisure</td>\n",
       "    </tr>\n",
       "  </tbody>\n",
       "</table>\n",
       "</div>"
      ],
      "text/plain": [
       "                                                  TITLE           CATEGORY\n",
       "2377   The Who s Roger Daltry Rocking for Philly Can...  Lifestyle_leisure\n",
       "2378                                                NaN  Lifestyle_leisure\n",
       "2379  stylehoroscope5e1a15f0 98e5 11e3 80ac 63a8ba7f...  Lifestyle_leisure\n",
       "2380  dario franchitti interview indianapolis 500 ca...  Lifestyle_leisure\n",
       "2381  flower power oils for loss and the stages of g...  Lifestyle_leisure"
      ]
     },
     "execution_count": 6,
     "metadata": {},
     "output_type": "execute_result"
    }
   ],
   "source": [
    "data1['TITLE'].replace('', np.nan, inplace=True)\n",
    "data1.tail()"
   ]
  },
  {
   "cell_type": "code",
   "execution_count": 7,
   "metadata": {
    "collapsed": false
   },
   "outputs": [
    {
     "data": {
      "text/html": [
       "<div>\n",
       "<table border=\"1\" class=\"dataframe\">\n",
       "  <thead>\n",
       "    <tr style=\"text-align: right;\">\n",
       "      <th></th>\n",
       "      <th>TITLE</th>\n",
       "      <th>CATEGORY</th>\n",
       "    </tr>\n",
       "  </thead>\n",
       "  <tbody>\n",
       "    <tr>\n",
       "      <th>2376</th>\n",
       "      <td>people watching.html</td>\n",
       "      <td>Lifestyle_leisure</td>\n",
       "    </tr>\n",
       "    <tr>\n",
       "      <th>2377</th>\n",
       "      <td>The Who s Roger Daltry Rocking for Philly Can...</td>\n",
       "      <td>Lifestyle_leisure</td>\n",
       "    </tr>\n",
       "    <tr>\n",
       "      <th>2379</th>\n",
       "      <td>stylehoroscope5e1a15f0 98e5 11e3 80ac 63a8ba7f...</td>\n",
       "      <td>Lifestyle_leisure</td>\n",
       "    </tr>\n",
       "    <tr>\n",
       "      <th>2380</th>\n",
       "      <td>dario franchitti interview indianapolis 500 ca...</td>\n",
       "      <td>Lifestyle_leisure</td>\n",
       "    </tr>\n",
       "    <tr>\n",
       "      <th>2381</th>\n",
       "      <td>flower power oils for loss and the stages of g...</td>\n",
       "      <td>Lifestyle_leisure</td>\n",
       "    </tr>\n",
       "  </tbody>\n",
       "</table>\n",
       "</div>"
      ],
      "text/plain": [
       "                                                  TITLE           CATEGORY\n",
       "2376                               people watching.html  Lifestyle_leisure\n",
       "2377   The Who s Roger Daltry Rocking for Philly Can...  Lifestyle_leisure\n",
       "2379  stylehoroscope5e1a15f0 98e5 11e3 80ac 63a8ba7f...  Lifestyle_leisure\n",
       "2380  dario franchitti interview indianapolis 500 ca...  Lifestyle_leisure\n",
       "2381  flower power oils for loss and the stages of g...  Lifestyle_leisure"
      ]
     },
     "execution_count": 7,
     "metadata": {},
     "output_type": "execute_result"
    }
   ],
   "source": [
    "data1.dropna(subset=['TITLE'], inplace=True)\n",
    "data1.tail()"
   ]
  },
  {
   "cell_type": "code",
   "execution_count": 8,
   "metadata": {
    "collapsed": false
   },
   "outputs": [],
   "source": [
    "data = data[['TITLE','CATEGORY']]"
   ]
  },
  {
   "cell_type": "code",
   "execution_count": 9,
   "metadata": {
    "collapsed": false,
    "deletable": true,
    "editable": true
   },
   "outputs": [
    {
     "data": {
      "text/plain": [
       "array(['b', 't', 'e', 'm', 'Nature_Environment', 'Politics',\n",
       "       'Science_Technology', 'Economy-Business_Finance', 'Health',\n",
       "       'Lifestyle_leisure'], dtype=object)"
      ]
     },
     "execution_count": 9,
     "metadata": {},
     "output_type": "execute_result"
    }
   ],
   "source": [
    "#Merging both datasets\n",
    "temp=[data,data1]\n",
    "news_data = pd.concat(temp)\n",
    "#Printing all different types of categories\n",
    "news_data.CATEGORY.unique()"
   ]
  },
  {
   "cell_type": "code",
   "execution_count": 10,
   "metadata": {
    "collapsed": false,
    "deletable": true,
    "editable": true
   },
   "outputs": [
    {
     "data": {
      "text/html": [
       "<div>\n",
       "<table border=\"1\" class=\"dataframe\">\n",
       "  <thead>\n",
       "    <tr style=\"text-align: right;\">\n",
       "      <th></th>\n",
       "      <th></th>\n",
       "      <th>TITLE</th>\n",
       "    </tr>\n",
       "    <tr>\n",
       "      <th>CATEGORY</th>\n",
       "      <th></th>\n",
       "      <th></th>\n",
       "    </tr>\n",
       "  </thead>\n",
       "  <tbody>\n",
       "    <tr>\n",
       "      <th rowspan=\"4\" valign=\"top\">Economy-Business_Finance</th>\n",
       "      <th>count</th>\n",
       "      <td>447</td>\n",
       "    </tr>\n",
       "    <tr>\n",
       "      <th>unique</th>\n",
       "      <td>443</td>\n",
       "    </tr>\n",
       "    <tr>\n",
       "      <th>top</th>\n",
       "      <td>share</td>\n",
       "    </tr>\n",
       "    <tr>\n",
       "      <th>freq</th>\n",
       "      <td>2</td>\n",
       "    </tr>\n",
       "    <tr>\n",
       "      <th rowspan=\"4\" valign=\"top\">Health</th>\n",
       "      <th>count</th>\n",
       "      <td>185</td>\n",
       "    </tr>\n",
       "    <tr>\n",
       "      <th>unique</th>\n",
       "      <td>173</td>\n",
       "    </tr>\n",
       "    <tr>\n",
       "      <th>top</th>\n",
       "      <td>Dangers of exposure to white light 21213</td>\n",
       "    </tr>\n",
       "    <tr>\n",
       "      <th>freq</th>\n",
       "      <td>3</td>\n",
       "    </tr>\n",
       "    <tr>\n",
       "      <th rowspan=\"4\" valign=\"top\">Lifestyle_leisure</th>\n",
       "      <th>count</th>\n",
       "      <td>294</td>\n",
       "    </tr>\n",
       "    <tr>\n",
       "      <th>unique</th>\n",
       "      <td>293</td>\n",
       "    </tr>\n",
       "    <tr>\n",
       "      <th>top</th>\n",
       "      <td>King Features Syndicate and Changing Times Vit...</td>\n",
       "    </tr>\n",
       "    <tr>\n",
       "      <th>freq</th>\n",
       "      <td>2</td>\n",
       "    </tr>\n",
       "    <tr>\n",
       "      <th rowspan=\"4\" valign=\"top\">Nature_Environment</th>\n",
       "      <th>count</th>\n",
       "      <td>372</td>\n",
       "    </tr>\n",
       "    <tr>\n",
       "      <th>unique</th>\n",
       "      <td>351</td>\n",
       "    </tr>\n",
       "    <tr>\n",
       "      <th>top</th>\n",
       "      <td>share</td>\n",
       "    </tr>\n",
       "    <tr>\n",
       "      <th>freq</th>\n",
       "      <td>6</td>\n",
       "    </tr>\n",
       "    <tr>\n",
       "      <th rowspan=\"4\" valign=\"top\">Politics</th>\n",
       "      <th>count</th>\n",
       "      <td>275</td>\n",
       "    </tr>\n",
       "    <tr>\n",
       "      <th>unique</th>\n",
       "      <td>272</td>\n",
       "    </tr>\n",
       "    <tr>\n",
       "      <th>top</th>\n",
       "      <td>Obama administration announces more than  2432...</td>\n",
       "    </tr>\n",
       "    <tr>\n",
       "      <th>freq</th>\n",
       "      <td>3</td>\n",
       "    </tr>\n",
       "    <tr>\n",
       "      <th rowspan=\"4\" valign=\"top\">Science_Technology</th>\n",
       "      <th>count</th>\n",
       "      <td>655</td>\n",
       "    </tr>\n",
       "    <tr>\n",
       "      <th>unique</th>\n",
       "      <td>604</td>\n",
       "    </tr>\n",
       "    <tr>\n",
       "      <th>top</th>\n",
       "      <td>share</td>\n",
       "    </tr>\n",
       "    <tr>\n",
       "      <th>freq</th>\n",
       "      <td>8</td>\n",
       "    </tr>\n",
       "    <tr>\n",
       "      <th rowspan=\"4\" valign=\"top\">b</th>\n",
       "      <th>count</th>\n",
       "      <td>115967</td>\n",
       "    </tr>\n",
       "    <tr>\n",
       "      <th>unique</th>\n",
       "      <td>111903</td>\n",
       "    </tr>\n",
       "    <tr>\n",
       "      <th>top</th>\n",
       "      <td>Posted by Imaduddin</td>\n",
       "    </tr>\n",
       "    <tr>\n",
       "      <th>freq</th>\n",
       "      <td>52</td>\n",
       "    </tr>\n",
       "    <tr>\n",
       "      <th rowspan=\"4\" valign=\"top\">e</th>\n",
       "      <th>count</th>\n",
       "      <td>152469</td>\n",
       "    </tr>\n",
       "    <tr>\n",
       "      <th>unique</th>\n",
       "      <td>146952</td>\n",
       "    </tr>\n",
       "    <tr>\n",
       "      <th>top</th>\n",
       "      <td>The article requested cannot be found! Please ...</td>\n",
       "    </tr>\n",
       "    <tr>\n",
       "      <th>freq</th>\n",
       "      <td>130</td>\n",
       "    </tr>\n",
       "    <tr>\n",
       "      <th rowspan=\"4\" valign=\"top\">m</th>\n",
       "      <th>count</th>\n",
       "      <td>45639</td>\n",
       "    </tr>\n",
       "    <tr>\n",
       "      <th>unique</th>\n",
       "      <td>43719</td>\n",
       "    </tr>\n",
       "    <tr>\n",
       "      <th>top</th>\n",
       "      <td>Share this on:</td>\n",
       "    </tr>\n",
       "    <tr>\n",
       "      <th>freq</th>\n",
       "      <td>9</td>\n",
       "    </tr>\n",
       "    <tr>\n",
       "      <th rowspan=\"4\" valign=\"top\">t</th>\n",
       "      <th>count</th>\n",
       "      <td>108344</td>\n",
       "    </tr>\n",
       "    <tr>\n",
       "      <th>unique</th>\n",
       "      <td>104733</td>\n",
       "    </tr>\n",
       "    <tr>\n",
       "      <th>top</th>\n",
       "      <td>Business Wire</td>\n",
       "    </tr>\n",
       "    <tr>\n",
       "      <th>freq</th>\n",
       "      <td>29</td>\n",
       "    </tr>\n",
       "  </tbody>\n",
       "</table>\n",
       "</div>"
      ],
      "text/plain": [
       "                                                                             TITLE\n",
       "CATEGORY                                                                          \n",
       "Economy-Business_Finance count                                                 447\n",
       "                         unique                                                443\n",
       "                         top                                                 share\n",
       "                         freq                                                    2\n",
       "Health                   count                                                 185\n",
       "                         unique                                                173\n",
       "                         top             Dangers of exposure to white light 21213 \n",
       "                         freq                                                    3\n",
       "Lifestyle_leisure        count                                                 294\n",
       "                         unique                                                293\n",
       "                         top     King Features Syndicate and Changing Times Vit...\n",
       "                         freq                                                    2\n",
       "Nature_Environment       count                                                 372\n",
       "                         unique                                                351\n",
       "                         top                                                 share\n",
       "                         freq                                                    6\n",
       "Politics                 count                                                 275\n",
       "                         unique                                                272\n",
       "                         top     Obama administration announces more than  2432...\n",
       "                         freq                                                    3\n",
       "Science_Technology       count                                                 655\n",
       "                         unique                                                604\n",
       "                         top                                                 share\n",
       "                         freq                                                    8\n",
       "b                        count                                              115967\n",
       "                         unique                                             111903\n",
       "                         top                                   Posted by Imaduddin\n",
       "                         freq                                                   52\n",
       "e                        count                                              152469\n",
       "                         unique                                             146952\n",
       "                         top     The article requested cannot be found! Please ...\n",
       "                         freq                                                  130\n",
       "m                        count                                               45639\n",
       "                         unique                                              43719\n",
       "                         top                                        Share this on:\n",
       "                         freq                                                    9\n",
       "t                        count                                              108344\n",
       "                         unique                                             104733\n",
       "                         top                                         Business Wire\n",
       "                         freq                                                   29"
      ]
     },
     "execution_count": 10,
     "metadata": {},
     "output_type": "execute_result"
    }
   ],
   "source": [
    "news_data.groupby('CATEGORY').describe()"
   ]
  },
  {
   "cell_type": "code",
   "execution_count": 11,
   "metadata": {
    "collapsed": false,
    "deletable": true,
    "editable": true
   },
   "outputs": [
    {
     "data": {
      "text/html": [
       "<div>\n",
       "<table border=\"1\" class=\"dataframe\">\n",
       "  <thead>\n",
       "    <tr style=\"text-align: right;\">\n",
       "      <th></th>\n",
       "      <th>TITLE</th>\n",
       "      <th>CATEGORY</th>\n",
       "      <th>NUM_CATEGORY</th>\n",
       "    </tr>\n",
       "  </thead>\n",
       "  <tbody>\n",
       "    <tr>\n",
       "      <th>0</th>\n",
       "      <td>Fed official says weak data caused by weather,...</td>\n",
       "      <td>b</td>\n",
       "      <td>0</td>\n",
       "    </tr>\n",
       "    <tr>\n",
       "      <th>1</th>\n",
       "      <td>Fed's Charles Plosser sees high bar for change...</td>\n",
       "      <td>b</td>\n",
       "      <td>0</td>\n",
       "    </tr>\n",
       "    <tr>\n",
       "      <th>2</th>\n",
       "      <td>US open: Stocks fall after Fed official hints ...</td>\n",
       "      <td>b</td>\n",
       "      <td>0</td>\n",
       "    </tr>\n",
       "    <tr>\n",
       "      <th>3</th>\n",
       "      <td>Fed risks falling 'behind the curve', Charles ...</td>\n",
       "      <td>b</td>\n",
       "      <td>0</td>\n",
       "    </tr>\n",
       "    <tr>\n",
       "      <th>4</th>\n",
       "      <td>Fed's Plosser: Nasty Weather Has Curbed Job Gr...</td>\n",
       "      <td>b</td>\n",
       "      <td>0</td>\n",
       "    </tr>\n",
       "  </tbody>\n",
       "</table>\n",
       "</div>"
      ],
      "text/plain": [
       "                                               TITLE CATEGORY  NUM_CATEGORY\n",
       "0  Fed official says weak data caused by weather,...        b             0\n",
       "1  Fed's Charles Plosser sees high bar for change...        b             0\n",
       "2  US open: Stocks fall after Fed official hints ...        b             0\n",
       "3  Fed risks falling 'behind the curve', Charles ...        b             0\n",
       "4  Fed's Plosser: Nasty Weather Has Curbed Job Gr...        b             0"
      ]
     },
     "execution_count": 11,
     "metadata": {},
     "output_type": "execute_result"
    }
   ],
   "source": [
    "#converting category column into numeric target NUM_CATEGORY column\n",
    "news_data['NUM_CATEGORY']=news_data.CATEGORY.map({'b':0,'e':1,'m':2,'t':3,'Economy-Business_Finance':0,'Health':2,'Lifestyle_leisure':2,'Nature_Environment':4,'Politics':0,'Science_Technology':3})\n",
    "news_data.head()\n"
   ]
  },
  {
   "cell_type": "code",
   "execution_count": 12,
   "metadata": {
    "collapsed": true,
    "deletable": true,
    "editable": true
   },
   "outputs": [],
   "source": [
    "#Splitting dataset into 60% training set and 40% test set\n",
    "x_train, x_test, y_train, y_test = train_test_split(news_data.TITLE, news_data.NUM_CATEGORY, random_state=50)"
   ]
  },
  {
   "cell_type": "code",
   "execution_count": 13,
   "metadata": {
    "collapsed": false,
    "deletable": true,
    "editable": true
   },
   "outputs": [
    {
     "name": "stdout",
     "output_type": "stream",
     "text": [
      "19.545383\n"
     ]
    }
   ],
   "source": [
    "#Here we convert our dataset into a Bag Of Word model using a Bigram model\n",
    "start = time.clock()\n",
    "\n",
    "vect = CountVectorizer(ngram_range=(2,2))\n",
    "#converting traning features into numeric vector\n",
    "X_train = vect.fit_transform(x_train)\n",
    "#converting training labels into numeric vector\n",
    "X_test = vect.transform(x_test)\n",
    "\n",
    "print (time.clock()-start)\n",
    "\n"
   ]
  },
  {
   "cell_type": "code",
   "execution_count": null,
   "metadata": {
    "collapsed": true,
    "deletable": true,
    "editable": true
   },
   "outputs": [],
   "source": []
  },
  {
   "cell_type": "code",
   "execution_count": 14,
   "metadata": {
    "collapsed": false,
    "deletable": true,
    "editable": true
   },
   "outputs": [
    {
     "name": "stdout",
     "output_type": "stream",
     "text": [
      "0.47650799999999904\n"
     ]
    }
   ],
   "source": [
    "#Training and Predicting the data\n",
    "\n",
    "start = time.clock()\n",
    "\n",
    "mnb = MultinomialNB(alpha =0.2)\n",
    "\n",
    "mnb.fit(X_train,y_train)\n",
    "\n",
    "result= mnb.predict(X_test)\n",
    "\n",
    "print (time.clock()-start)"
   ]
  },
  {
   "cell_type": "code",
   "execution_count": 15,
   "metadata": {
    "collapsed": false,
    "deletable": true,
    "editable": true
   },
   "outputs": [
    {
     "data": {
      "text/plain": [
       "0.93161394849381129"
      ]
     },
     "execution_count": 15,
     "metadata": {},
     "output_type": "execute_result"
    }
   ],
   "source": [
    "#Printing accuracy of the our model\n",
    "accuracy_score(result,y_test)\n"
   ]
  },
  {
   "cell_type": "code",
   "execution_count": 16,
   "metadata": {
    "collapsed": false,
    "deletable": true,
    "editable": true
   },
   "outputs": [],
   "source": [
    "#This function return the class of the input news\n",
    "def predict_news(news):\n",
    "    test = vect.transform(news)\n",
    "    pred= mnb.predict(test)\n",
    "    if pred  == 0:\n",
    "         return 'Business or Politics'\n",
    "    elif pred == 1:\n",
    "        return 'Entertainment'\n",
    "    elif pred == 2:\n",
    "        return 'Health or Lifestyle'\n",
    "    elif pred == 3:\n",
    "        return 'Science and Technology'\n",
    "    else:\n",
    "        return 'Environment'\n",
    "    \n",
    "    \n",
    "#'Lifestyle_leisure':4,'Nature_Environment':5,'Politics':6,"
   ]
  },
  {
   "cell_type": "code",
   "execution_count": 17,
   "metadata": {
    "collapsed": false,
    "deletable": true,
    "editable": true
   },
   "outputs": [
    {
     "name": "stdout",
     "output_type": "stream",
     "text": [
      "Business or Politics\n"
     ]
    }
   ],
   "source": [
    "##Copy and paste the news headline in 'x'\n",
    "x=[\"Nifty IT index down nearly 3% on Infosys weak guidance\"]\n",
    "r = predict_news(x)\n",
    "print (r)"
   ]
  },
  {
   "cell_type": "code",
   "execution_count": 20,
   "metadata": {
    "collapsed": false
   },
   "outputs": [
    {
     "data": {
      "text/plain": [
       "array([[26317,   790,   375,  1601,     2],\n",
       "       [  369, 36920,   175,   515,     0],\n",
       "       [  381,   431, 10517,   319,     0],\n",
       "       [ 1300,   688,   229, 25140,     0],\n",
       "       [   25,    28,     5,    27,     8]])"
      ]
     },
     "execution_count": 20,
     "metadata": {},
     "output_type": "execute_result"
    }
   ],
   "source": [
    "#Printing the confusion matrix of our prediction\n",
    "from sklearn.metrics import confusion_matrix\n",
    "\n",
    "confusion_matrix(y_test, result)"
   ]
  },
  {
   "cell_type": "code",
   "execution_count": 19,
   "metadata": {
    "collapsed": false
   },
   "outputs": [
    {
     "data": {
      "text/plain": [
       "array([[26317,   790,   375,  1601,     2],\n",
       "       [  369, 36920,   175,   515,     0],\n",
       "       [  381,   431, 10517,   319,     0],\n",
       "       [ 1300,   688,   229, 25140,     0],\n",
       "       [   25,    28,     5,    27,     8]])"
      ]
     },
     "execution_count": 19,
     "metadata": {},
     "output_type": "execute_result"
    }
   ],
   "source": []
  }
 ],
 "metadata": {
  "anaconda-cloud": {},
  "kernelspec": {
   "display_name": "Python [conda env:py35]",
   "language": "python",
   "name": "conda-env-py35-py"
  },
  "language_info": {
   "codemirror_mode": {
    "name": "ipython",
    "version": 3
   },
   "file_extension": ".py",
   "mimetype": "text/x-python",
   "name": "python",
   "nbconvert_exporter": "python",
   "pygments_lexer": "ipython3",
   "version": "3.5.3"
  }
 },
 "nbformat": 4,
 "nbformat_minor": 2
}
